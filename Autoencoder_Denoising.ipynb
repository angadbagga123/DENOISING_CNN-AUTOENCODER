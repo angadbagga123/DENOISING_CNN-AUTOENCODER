{
  "cells": [
    {
      "cell_type": "code",
      "source": [
        "import numpy as np\n",
        "import matplotlib.pyplot as plt\n",
        "from keras import Sequential\n",
        "from keras.layers import Dense, Conv2D, MaxPooling2D, UpSampling2D\n",
        "from keras.datasets import fashion_mnist"
      ],
      "metadata": {
        "id": "XPLI-Rd9VAhe"
      },
      "id": "XPLI-Rd9VAhe",
      "execution_count": 33,
      "outputs": []
    },
    {
      "cell_type": "code",
      "source": [
        "(x_train, _), (x_test, _) = fashion_mnist.load_data()"
      ],
      "metadata": {
        "colab": {
          "base_uri": "https://localhost:8080/"
        },
        "id": "oWXrwoEVVGwi",
        "outputId": "4aa0b0b7-8b0d-46e0-a555-a7c6b132a515"
      },
      "id": "oWXrwoEVVGwi",
      "execution_count": 34,
      "outputs": [
        {
          "output_type": "stream",
          "name": "stdout",
          "text": [
            "Downloading data from https://storage.googleapis.com/tensorflow/tf-keras-datasets/train-labels-idx1-ubyte.gz\n",
            "29515/29515 [==============================] - 0s 1us/step\n",
            "Downloading data from https://storage.googleapis.com/tensorflow/tf-keras-datasets/train-images-idx3-ubyte.gz\n",
            "26421880/26421880 [==============================] - 2s 0us/step\n",
            "Downloading data from https://storage.googleapis.com/tensorflow/tf-keras-datasets/t10k-labels-idx1-ubyte.gz\n",
            "5148/5148 [==============================] - 0s 0us/step\n",
            "Downloading data from https://storage.googleapis.com/tensorflow/tf-keras-datasets/t10k-images-idx3-ubyte.gz\n",
            "4422102/4422102 [==============================] - 1s 0us/step\n"
          ]
        }
      ]
    },
    {
      "cell_type": "code",
      "source": [
        "# normalize the image data\n",
        "x_train = x_train.astype('float32') / 255\n",
        "x_test = x_test.astype('float32') / 255\n",
        "     \n",
        "\n",
        "# reshape in the input data for the model\n",
        "x_train = x_train.reshape(len(x_train), 28, 28, 1)\n",
        "x_test = x_test.reshape(len(x_test), 28, 28, 1)\n",
        "x_test.shape"
      ],
      "metadata": {
        "colab": {
          "base_uri": "https://localhost:8080/"
        },
        "id": "xENs7yw5VKC_",
        "outputId": "fa873575-e932-4787-8969-293f5b12da65"
      },
      "id": "xENs7yw5VKC_",
      "execution_count": 35,
      "outputs": [
        {
          "output_type": "execute_result",
          "data": {
            "text/plain": [
              "(10000, 28, 28, 1)"
            ]
          },
          "metadata": {},
          "execution_count": 35
        }
      ]
    },
    {
      "cell_type": "code",
      "source": [
        "# add noise\n",
        "noise_factor = 0.4\n",
        "x_train_noisy = x_train + noise_factor * np.random.normal(loc=0.0, scale=1.0, size=x_train.shape)\n",
        "x_test_noisy = x_test + noise_factor * np.random.normal(loc=0.0, scale=1.0, size=x_test.shape)\n",
        "     \n",
        "\n",
        "# clip the values in the range of 0-1\n",
        "x_train_noisy = np.clip(x_train_noisy, 0., 1.)\n",
        "x_test_noisy = np.clip(x_test_noisy, 0., 1.)"
      ],
      "metadata": {
        "id": "4g8IJsctVMuP"
      },
      "id": "4g8IJsctVMuP",
      "execution_count": 36,
      "outputs": []
    },
    {
      "cell_type": "code",
      "source": [
        "# randomly select input image\n",
        "index = np.random.randint(len(x_test))\n",
        "# plot the image\n",
        "plt.imshow(x_test[index].reshape(28,28))\n",
        "plt.gray()"
      ],
      "metadata": {
        "colab": {
          "base_uri": "https://localhost:8080/",
          "height": 430
        },
        "id": "RiGkPkgHVaWb",
        "outputId": "e8e351c3-f676-4b96-ab79-c9c88dbd1965"
      },
      "id": "RiGkPkgHVaWb",
      "execution_count": 37,
      "outputs": [
        {
          "output_type": "display_data",
          "data": {
            "text/plain": [
              "<Figure size 640x480 with 1 Axes>"
            ],
            "image/png": "[encoded data removed]"
          },
          "metadata": {}
        }
      ]
    },
    {
      "cell_type": "code",
      "source": [
        "# randomly select input image\n",
        "index = np.random.randint(len(x_test))\n",
        "# plot the image\n",
        "plt.imshow(x_test_noisy[index].reshape(28,28))\n",
        "plt.gray()"
      ],
      "metadata": {
        "colab": {
          "base_uri": "https://localhost:8080/",
          "height": 430
        },
        "id": "RDZOUZqMVcqw",
        "outputId": "c3636fa7-4bee-4fef-c1ef-842478a8097f"
      },
      "id": "RDZOUZqMVcqw",
      "execution_count": 38,
      "outputs": [
        {
          "output_type": "display_data",
          "data": {
            "text/plain": [
              "<Figure size 640x480 with 1 Axes>"
            ],
            "image/png": "[encoded data removed]"
          },
          "metadata": {}
        }
      ]
    },
    {
      "cell_type": "code",
      "source": [
        "model = Sequential([\n",
        "                    # encoder network\n",
        "                    Conv2D(32, 3, activation='relu', padding='same', input_shape=(28, 28, 1)),\n",
        "                    MaxPooling2D(2, padding='same'),\n",
        "                    Conv2D(16, 3, activation='relu', padding='same'),\n",
        "                    MaxPooling2D(2, padding='same'),\n",
        "                    # decoder network\n",
        "                    Conv2D(16, 3, activation='relu', padding='same'),\n",
        "                    UpSampling2D(2),\n",
        "                    Conv2D(32, 3, activation='relu', padding='same'),\n",
        "                    UpSampling2D(2),\n",
        "                    # output layer\n",
        "                    Conv2D(1, 3, activation='sigmoid', padding='same')\n",
        "])\n",
        "\n",
        "model.compile(optimizer='adam', loss='binary_crossentropy')\n",
        "model.summary()"
      ],
      "metadata": {
        "colab": {
          "base_uri": "https://localhost:8080/"
        },
        "id": "bfvOQC2hVfMa",
        "outputId": "60d79583-9a64-4cd9-f5db-14e9256c3c91"
      },
      "id": "bfvOQC2hVfMa",
      "execution_count": 43,
      "outputs": [
        {
          "output_type": "stream",
          "name": "stdout",
          "text": [
            "Model: \"sequential_3\"\n",
            "_________________________________________________________________\n",
            " Layer (type)                Output Shape              Param #   \n",
            "=================================================================\n",
            " conv2d_15 (Conv2D)          (None, 28, 28, 32)        320       \n",
            "                                                                 \n",
            " max_pooling2d_6 (MaxPooling  (None, 14, 14, 32)       0         \n",
            " 2D)                                                             \n",
            "                                                                 \n",
            " conv2d_16 (Conv2D)          (None, 14, 14, 16)        4624      \n",
            "                                                                 \n",
            " max_pooling2d_7 (MaxPooling  (None, 7, 7, 16)         0         \n",
            " 2D)                                                             \n",
            "                                                                 \n",
            " conv2d_17 (Conv2D)          (None, 7, 7, 16)          2320      \n",
            "                                                                 \n",
            " up_sampling2d_6 (UpSampling  (None, 14, 14, 16)       0         \n",
            " 2D)                                                             \n",
            "                                                                 \n",
            " conv2d_18 (Conv2D)          (None, 14, 14, 32)        4640      \n",
            "                                                                 \n",
            " up_sampling2d_7 (UpSampling  (None, 28, 28, 32)       0         \n",
            " 2D)                                                             \n",
            "                                                                 \n",
            " conv2d_19 (Conv2D)          (None, 28, 28, 1)         289       \n",
            "                                                                 \n",
            "=================================================================\n",
            "Total params: 12,193\n",
            "Trainable params: 12,193\n",
            "Non-trainable params: 0\n",
            "_________________________________________________________________\n"
          ]
        }
      ]
    },
    {
      "cell_type": "code",
      "source": [
        "# train the model\n",
        "model.fit(x_train_noisy, x_train, epochs=20, batch_size=256, validation_data=(x_test_noisy, x_test))\n",
        "     "
      ],
      "metadata": {
        "colab": {
          "base_uri": "https://localhost:8080/"
        },
        "id": "aqZwccfjVolR",
        "outputId": "b4cfb0a1-6083-428e-ef28-bc84377850a0"
      },
      "id": "aqZwccfjVolR",
      "execution_count": 40,
      "outputs": [
        {
          "output_type": "stream",
          "name": "stdout",
          "text": [
            "Epoch 1/20\n",
            "235/235 [==============================] - 159s 669ms/step - loss: 0.3661 - val_loss: 0.3125\n",
            "Epoch 2/20\n",
            "235/235 [==============================] - 156s 666ms/step - loss: 0.3053 - val_loss: 0.3030\n",
            "Epoch 3/20\n",
            "235/235 [==============================] - 164s 696ms/step - loss: 0.2991 - val_loss: 0.2997\n",
            "Epoch 4/20\n",
            "235/235 [==============================] - 161s 684ms/step - loss: 0.2966 - val_loss: 0.2981\n",
            "Epoch 5/20\n",
            "235/235 [==============================] - 157s 669ms/step - loss: 0.2948 - val_loss: 0.2962\n",
            "Epoch 6/20\n",
            "235/235 [==============================] - 158s 675ms/step - loss: 0.2935 - val_loss: 0.2952\n",
            "Epoch 7/20\n",
            "235/235 [==============================] - 158s 673ms/step - loss: 0.2926 - val_loss: 0.2942\n",
            "Epoch 8/20\n",
            "235/235 [==============================] - 158s 672ms/step - loss: 0.2916 - val_loss: 0.2933\n",
            "Epoch 9/20\n",
            "235/235 [==============================] - 158s 672ms/step - loss: 0.2908 - val_loss: 0.2926\n",
            "Epoch 10/20\n",
            "235/235 [==============================] - 158s 673ms/step - loss: 0.2901 - val_loss: 0.2922\n",
            "Epoch 11/20\n",
            "235/235 [==============================] - 160s 683ms/step - loss: 0.2895 - val_loss: 0.2913\n",
            "Epoch 12/20\n",
            "235/235 [==============================] - 156s 663ms/step - loss: 0.2890 - val_loss: 0.2908\n",
            "Epoch 13/20\n",
            "235/235 [==============================] - 168s 718ms/step - loss: 0.2885 - val_loss: 0.2912\n",
            "Epoch 14/20\n",
            "235/235 [==============================] - 160s 680ms/step - loss: 0.2880 - val_loss: 0.2900\n",
            "Epoch 15/20\n",
            "235/235 [==============================] - 159s 678ms/step - loss: 0.2876 - val_loss: 0.2895\n",
            "Epoch 16/20\n",
            "235/235 [==============================] - 157s 670ms/step - loss: 0.2872 - val_loss: 0.2893\n",
            "Epoch 17/20\n",
            "235/235 [==============================] - 159s 675ms/step - loss: 0.2869 - val_loss: 0.2888\n",
            "Epoch 18/20\n",
            "235/235 [==============================] - 159s 675ms/step - loss: 0.2866 - val_loss: 0.2886\n",
            "Epoch 19/20\n",
            "235/235 [==============================] - 161s 684ms/step - loss: 0.2863 - val_loss: 0.2883\n",
            "Epoch 20/20\n",
            "235/235 [==============================] - 159s 679ms/step - loss: 0.2860 - val_loss: 0.2881\n"
          ]
        },
        {
          "output_type": "execute_result",
          "data": {
            "text/plain": [
              "<keras.callbacks.History at 0x7f5d0f7c52d0>"
            ]
          },
          "metadata": {},
          "execution_count": 40
        }
      ]
    },
    {
      "cell_type": "code",
      "source": [
        "# predict the results from model (get compressed images)\n",
        "pred = model.predict(x_test_noisy)"
      ],
      "metadata": {
        "colab": {
          "base_uri": "https://localhost:8080/"
        },
        "id": "05RHWOhgVq95",
        "outputId": "98282008-8622-482a-fe82-603e30932a15"
      },
      "id": "05RHWOhgVq95",
      "execution_count": 41,
      "outputs": [
        {
          "output_type": "stream",
          "name": "stdout",
          "text": [
            "313/313 [==============================] - 5s 17ms/step\n"
          ]
        }
      ]
    },
    {
      "cell_type": "code",
      "source": [
        "index = np.random.randint(len(x_test))\n",
        "plt.figure(figsize=(10, 4))\n",
        "# display original image\n",
        "ax = plt.subplot(1, 2, 1)\n",
        "plt.imshow(x_test_noisy[index].reshape(28,28))\n",
        "plt.gray()\n",
        "ax.get_xaxis().set_visible(False)\n",
        "ax.get_yaxis().set_visible(False)\n",
        "# display compressed image\n",
        "ax = plt.subplot(1, 2, 2)\n",
        "plt.imshow(pred[index].reshape(28,28))\n",
        "plt.gray()\n",
        "ax.get_xaxis().set_visible(False)\n",
        "ax.get_yaxis().set_visible(False)\n",
        "plt.show()"
      ],
      "metadata": {
        "colab": {
          "base_uri": "https://localhost:8080/",
          "height": 345
        },
        "id": "hhwf4383VvAd",
        "outputId": "a2df98c0-e1ac-47c2-bcd0-7781de5b9d71"
      },
      "id": "hhwf4383VvAd",
      "execution_count": 42,
      "outputs": [
        {
          "output_type": "display_data",
          "data": {
            "text/plain": [
              "<Figure size 1000x400 with 2 Axes>"
            ],
            "image/png": "[encoded data removed]"
          },
          "metadata": {}
        }
      ]
    }
  ],
  "metadata": {
    "kernelspec": {
      "display_name": "Python 3",
      "language": "python",
      "name": "python3"
    },
    "language_info": {
      "codemirror_mode": {
        "name": "ipython",
        "version": 3
      },
      "file_extension": ".py",
      "mimetype": "text/x-python",
      "name": "python",
      "nbconvert_exporter": "python",
      "pygments_lexer": "ipython3",
      "version": "3.8.3"
    },
    "colab": {
      "provenance": []
    }
  },
  "nbformat": 4,
  "nbformat_minor": 5
}